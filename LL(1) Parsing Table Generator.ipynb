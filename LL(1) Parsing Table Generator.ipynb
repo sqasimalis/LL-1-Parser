{
 "cells": [
  {
   "cell_type": "markdown",
   "metadata": {},
   "source": [
    "#  Motivation: Challenge for the title of \"Baba-e-Compiler Construction\" by Dr. Muhammad Nadeem\n",
    "### But Got the Title of Baba-e-Programming XD"
   ]
  },
  {
   "cell_type": "markdown",
   "metadata": {},
   "source": [
    "Name: Syed Qasim Ali Shah <br/>\n",
    "Email: syedqasimali311@gmail.com <br/>\n",
    "LinkedIn: https://www.linkedin.com/in/syedqasimalishah/"
   ]
  },
  {
   "cell_type": "markdown",
   "metadata": {},
   "source": [
    "## LL(1) Parsing Table Generator (Including First & Follow Sets)\n",
    "### (Version-4)"
   ]
  },
  {
   "cell_type": "markdown",
   "metadata": {},
   "source": [
    "### Entering LL(k) Grammars (After removing ambiguities)"
   ]
  },
  {
   "cell_type": "code",
   "execution_count": 1,
   "metadata": {},
   "outputs": [
    {
     "name": "stdout",
     "output_type": "stream",
     "text": [
      "Grammar:\n",
      "[['E', 'T', \"E'\"], [\"E'\", '+', 'T', \"E'\"], [\"E'\", '#'], ['T', 'F', \"T'\"], [\"T'\", '*', 'F', \"T'\"], [\"T'\", '#'], ['F', '(', 'E', ')'], ['F', 'num']]\n"
     ]
    }
   ],
   "source": [
    "# Grammar # 1\n",
    "grammar = []\n",
    "grammar.append(['E', 'T', \"E'\"])\n",
    "grammar.append([\"E'\", '+', 'T', \"E'\"])\n",
    "grammar.append([\"E'\", '#'])   # '#' is used for epsilon\n",
    "grammar.append(['T', 'F', \"T'\"])\n",
    "grammar.append([\"T'\", '*', 'F', \"T'\"])\n",
    "grammar.append([\"T'\", \"#\"])\n",
    "grammar.append(['F', '(', 'E', ')'])\n",
    "grammar.append(['F', 'num'])\n",
    "\n",
    "print('Grammar:')\n",
    "print(grammar)"
   ]
  },
  {
   "cell_type": "code",
   "execution_count": 1,
   "metadata": {},
   "outputs": [
    {
     "name": "stdout",
     "output_type": "stream",
     "text": [
      "Grammar:\n",
      "[['S', '(', 'A', ')'], ['A', 'C', 'B'], ['B', ';', 'A'], ['B', '#'], ['C', 'x'], ['C', 'S']]\n"
     ]
    }
   ],
   "source": [
    "# Grammar # 2\n",
    "grammar = []\n",
    "grammar.append(['S', '(', 'A', ')'])\n",
    "grammar.append(['A', 'C', 'B'])\n",
    "grammar.append(['B', ';', 'A'])\n",
    "grammar.append(['B', '#'])   # '#' is used for epsilon\n",
    "grammar.append(['C', 'x'])\n",
    "grammar.append(['C', 'S'])\n",
    "\n",
    "print('Grammar:')\n",
    "print(grammar)"
   ]
  },
  {
   "cell_type": "code",
   "execution_count": 1,
   "metadata": {},
   "outputs": [
    {
     "name": "stdout",
     "output_type": "stream",
     "text": [
      "Grammar:\n",
      "[['S', 'A', 'S', 'b'], ['S', 'C'], ['A', 'a'], ['C', 'c', 'C'], ['C', '#']]\n"
     ]
    }
   ],
   "source": [
    "# Grammar # 3\n",
    "grammar = []\n",
    "grammar.append(['S', 'A', 'S', 'b'])\n",
    "grammar.append(['S', 'C'])\n",
    "grammar.append(['A', 'a'])\n",
    "grammar.append(['C', 'c', 'C'])\n",
    "grammar.append(['C', '#'])   # '#' is used for epsilon\n",
    "\n",
    "print('Grammar:')\n",
    "print(grammar)"
   ]
  },
  {
   "cell_type": "code",
   "execution_count": 1,
   "metadata": {},
   "outputs": [
    {
     "name": "stdout",
     "output_type": "stream",
     "text": [
      "Grammar:\n",
      "[['S', 'A', 'B', 'C'], ['A', 'a', 'A'], ['A', '#'], ['B', 'b', \"B'\"], [\"B'\", 'c', \"B'\"], [\"B'\", '#'], ['C', 'd']]\n"
     ]
    }
   ],
   "source": [
    "# Grammar # 4\n",
    "grammar = []\n",
    "grammar.append(['S', 'A', 'B', 'C'])\n",
    "grammar.append(['A', 'a', 'A'])\n",
    "grammar.append(['A', '#'])   # '#' is used for epsilon\n",
    "grammar.append(['B', 'b', \"B'\"])\n",
    "grammar.append([\"B'\", 'c', \"B'\"])\n",
    "grammar.append([\"B'\", '#'])   # '#' is used for epsilon\n",
    "grammar.append([\"C\", 'd'])\n",
    "\n",
    "print('Grammar:')\n",
    "print(grammar)"
   ]
  },
  {
   "cell_type": "code",
   "execution_count": 1,
   "metadata": {},
   "outputs": [
    {
     "name": "stdout",
     "output_type": "stream",
     "text": [
      "Grammar:\n",
      "[['S', 'A'], ['A', 'a', 'B', \"A'\"], [\"A'\", 'd', \"A'\"], [\"A'\", '#'], ['B', 'b', 'B', 'C'], ['B', 'f'], ['C', 'g']]\n"
     ]
    }
   ],
   "source": [
    "# Grammar # 5\n",
    "grammar = []\n",
    "grammar.append(['S', 'A'])\n",
    "grammar.append(['A', 'a', 'B', \"A'\"])\n",
    "grammar.append([\"A'\", 'd', \"A'\"])\n",
    "grammar.append([\"A'\", '#'])   # '#' is used for epsilon\n",
    "grammar.append(['B', 'b', 'B', 'C'])\n",
    "grammar.append(['B', 'f'])\n",
    "grammar.append([\"C\", 'g'])\n",
    "\n",
    "print('Grammar:')\n",
    "print(grammar)"
   ]
  },
  {
   "cell_type": "markdown",
   "metadata": {},
   "source": [
    "### Getting input of LL(k) Grammar from User (After removing ambiguities)"
   ]
  },
  {
   "cell_type": "code",
   "execution_count": 1,
   "metadata": {},
   "outputs": [
    {
     "name": "stdout",
     "output_type": "stream",
     "text": [
      "Enter the production rule: E -> TE'\n",
      "Do you want to enter another rule? (y/n) : y\n",
      "Enter the production rule: E' -> +TE'\n",
      "Do you want to enter another rule? (y/n) : y\n",
      "Enter the production rule: E' -> #\n",
      "Do you want to enter another rule? (y/n) : y\n",
      "Enter the production rule: T -> FT'\n",
      "Do you want to enter another rule? (y/n) : y\n",
      "Enter the production rule: T' -> *FT'\n",
      "Do you want to enter another rule? (y/n) : y\n",
      "Enter the production rule: T' -> #\n",
      "Do you want to enter another rule? (y/n) : y\n",
      "Enter the production rule: F -> (E)\n",
      "Do you want to enter another rule? (y/n) : y\n",
      "Enter the production rule: F -> num\n",
      "Do you want to enter another rule? (y/n) : n\n",
      "\n",
      "You Entered: \n",
      "[\"E -> TE'\", \"E' -> +TE'\", \"E' -> #\", \"T -> FT'\", \"T' -> *FT'\", \"T' -> #\", 'F -> (E)', 'F -> num']\n",
      "Grammar:\n",
      "[['E', 'T', \"E'\"], [\"E'\", '+', 'T', \"E'\"], [\"E'\", '#'], ['T', 'F', \"T'\"], [\"T'\", '*', 'F', \"T'\"], [\"T'\", '#'], ['F', '(', 'E', ')'], ['F', 'num']]\n"
     ]
    }
   ],
   "source": [
    "g = []\n",
    "choice = 'n'\n",
    "\n",
    "while(True):\n",
    "    rule = input(\"Enter the production rule: \")\n",
    "    g.append(rule)\n",
    "    choice = input(\"Do you want to enter another rule? (y/n) : \")\n",
    "    if choice in ['n', 'N']:\n",
    "        break\n",
    "print('\\nYou Entered: ')\n",
    "print(g)\n",
    "\n",
    "# Creating a list of all characters in as in grammar rules by sequence\n",
    "tokens = []\n",
    "for r in g:\n",
    "    tokens.extend(list(r))   # list(r) will break the string into list of characters\n",
    "\n",
    "# Creating tokens\n",
    "new_tokens = []\n",
    "prev = tokens[0]\n",
    "new_tokens.append(prev)\n",
    "\n",
    "for i in tokens[1:]:\n",
    "    if i in [\"'\", '>']:\n",
    "        new_tokens = new_tokens[:-1]\n",
    "        new_tokens.append(prev+i)\n",
    "        prev = i\n",
    "    elif i.islower() == True:   # Check if the non-terminal is composite of more than 1 letter (i.e. num)\n",
    "        if new_tokens[-1].islower() == True:\n",
    "            word = new_tokens[-1] + i\n",
    "            new_tokens = new_tokens[:-1]\n",
    "            new_tokens.append(word)\n",
    "            prev = i\n",
    "        else:\n",
    "            new_tokens.append(i)\n",
    "            prev = i\n",
    "    elif i != ' ':\n",
    "        new_tokens.append(i)\n",
    "        prev = i\n",
    "\n",
    "# Creating list of list which contains grammar for further use\n",
    "grammar = []\n",
    "rule = []\n",
    "rule.append(new_tokens[0])\n",
    "\n",
    "for i in new_tokens[2:]:\n",
    "    if i == '->':\n",
    "        non_term = rule[-1]\n",
    "        grammar.append(rule[:-1])\n",
    "        rule.clear()\n",
    "        rule.append(non_term)\n",
    "    else:\n",
    "        rule.append(i)\n",
    "else:\n",
    "    grammar.append(rule)\n",
    "\n",
    "print('Grammar:')\n",
    "print(grammar)\n",
    "\n",
    "# Example Production Rules\n",
    "# E -> TE'\n",
    "# E' -> +TE'\n",
    "# E' -> #\n",
    "# T -> FT'\n",
    "# T' -> *FT'\n",
    "# T' -> #\n",
    "# F -> (E)\n",
    "# F -> num"
   ]
  },
  {
   "cell_type": "markdown",
   "metadata": {},
   "source": [
    "#### Code to remove duplicates from list"
   ]
  },
  {
   "cell_type": "code",
   "execution_count": 2,
   "metadata": {},
   "outputs": [],
   "source": [
    "def remove_duplicates(in_list):\n",
    "    return list(dict.fromkeys(in_list))"
   ]
  },
  {
   "cell_type": "markdown",
   "metadata": {},
   "source": [
    "### Extracting Starting Symbol, Non-Terminals & Terminals from Grammar"
   ]
  },
  {
   "cell_type": "code",
   "execution_count": 3,
   "metadata": {},
   "outputs": [
    {
     "name": "stdout",
     "output_type": "stream",
     "text": [
      "Number of Rules:\t 8\n",
      "Starting Symbol:\t E\n",
      "Non Terminals:\t\t ['E', \"E'\", 'T', \"T'\", 'F']\n",
      "Terminals:\t\t ['+', '#', '*', '(', ')', 'num']\n"
     ]
    }
   ],
   "source": [
    "no_of_rules = len(grammar)\n",
    "all_elements = []\n",
    "non_terminals = []\n",
    "terminals = []\n",
    "start_symbol = ''\n",
    "\n",
    "# Extracting Non-Terminals\n",
    "for i in grammar:\n",
    "    non_terminals.append(i[0])\n",
    "non_terminals = remove_duplicates(non_terminals)\n",
    "\n",
    "# Extracting Terminals\n",
    "for i in grammar:\n",
    "    for j in i:\n",
    "        all_elements.append(j)\n",
    "all_elements = remove_duplicates(all_elements)\n",
    "for i in all_elements:\n",
    "    if i[0].isupper() == False:\n",
    "        terminals.append(i)\n",
    "#terminals.remove('#')\n",
    "\n",
    "#Extracting Starting Symbol\n",
    "start_symbol = non_terminals[0]\n",
    "\n",
    "print('Number of Rules:\\t', no_of_rules)\n",
    "print('Starting Symbol:\\t', start_symbol)\n",
    "print('Non Terminals:\\t\\t', non_terminals)\n",
    "print('Terminals:\\t\\t', terminals)"
   ]
  },
  {
   "cell_type": "markdown",
   "metadata": {},
   "source": [
    "### Computing First Set"
   ]
  },
  {
   "cell_type": "code",
   "execution_count": 4,
   "metadata": {},
   "outputs": [
    {
     "name": "stdout",
     "output_type": "stream",
     "text": [
      "First:\n",
      "First(+)\t:  ['+']\n",
      "First(#)\t:  ['#']\n",
      "First(*)\t:  ['*']\n",
      "First(()\t:  ['(']\n",
      "First())\t:  [')']\n",
      "First(num)\t:  ['num']\n",
      "First(E)\t:  ['(', 'num']\n",
      "First(E')\t:  ['+', '#']\n",
      "First(T)\t:  ['(', 'num']\n",
      "First(T')\t:  ['*', '#']\n",
      "First(F)\t:  ['(', 'num']\n"
     ]
    }
   ],
   "source": [
    "first = {}\n",
    "first_completed = 0   # Counter variable used to check how many first has to be replaced\n",
    "\n",
    "# First of terminals\n",
    "for i in terminals:\n",
    "    first[i] = [i]\n",
    "\n",
    "# First of non-terminals (First initialize the dictionary with empty lists and then calculate first for terminals)\n",
    "for i in non_terminals:\n",
    "    first[i] = []\n",
    "for i in grammar:\n",
    "    if i[1] in terminals:\n",
    "        first[i[0]] = first[i[0]] + [i[1]]\n",
    "\n",
    "# Enter temporary firsts (i.e. first(A)) for each non-terminal after -> in grammar\n",
    "g_index = 0   # Get the index of current rule in grammar\n",
    "for i in grammar:\n",
    "    if i[1] in non_terminals:\n",
    "        first[i[0]] = first[i[0]] + ['first({nt}){c_in}'.format(nt = i[1], c_in = g_index)]\n",
    "        first_completed += 1\n",
    "    g_index += 1\n",
    "\n",
    "# Putting the values of temporary items (i.e first(B) in first(A) = {first(B)}\n",
    "while(first_completed > 0):\n",
    "    for i in first:\n",
    "        index = 0\n",
    "        for j in first[i]:\n",
    "            if j.find('first') != -1:   # If temporary first() is found\n",
    "                c_i = int(j[8])   # Retrieve the index of rule in grammar\n",
    "                nt = first[j[6]]   # Get the values (first) of temporary first()\n",
    "                first[i].remove(j)   # Remove the temporary first\n",
    "                for x in reversed(nt):   # Loop through the values of temporary first\n",
    "                    if x == '#' and (grammar[c_i].index(j[6])) < len(grammar[c_i]) - 1:   # Wrote this exception if epsilon is in first of non-terminal\n",
    "                        first[i].insert(index, 'first({nth}){c_in}'.format(nth = grammar[c_i][grammar[c_i].index(j[6]) + 1], c_in = c_i))\n",
    "                        first_completed += 1\n",
    "                    else:\n",
    "                        first[i].insert(index, x)\n",
    "                        if x.find('first') != -1:\n",
    "                            first_completed += 1\n",
    "                first_completed -= 1\n",
    "            index += 1\n",
    "\n",
    "print('First:')\n",
    "for i in first:\n",
    "    print('First({a})\\t: '.format(a = i), first[i])"
   ]
  },
  {
   "cell_type": "markdown",
   "metadata": {},
   "source": [
    "### Computing Follow Set"
   ]
  },
  {
   "cell_type": "code",
   "execution_count": 5,
   "metadata": {},
   "outputs": [
    {
     "name": "stdout",
     "output_type": "stream",
     "text": [
      "New Grammar:\n",
      "[['E', 'T', \"E'\"], [\"E'\", '+', 'T', \"E'\"], ['T', 'F', \"T'\"], [\"T'\", '*', 'F', \"T'\"], ['F', '(', 'E', ')'], ['F', 'num']]\n",
      "Follow:\n",
      "Follow(E)\t:  ['$', ')']\n",
      "Follow(E')\t:  ['$', ')']\n",
      "Follow(T)\t:  ['+', '$', ')']\n",
      "Follow(T')\t:  ['+', '$', ')']\n",
      "Follow(F)\t:  ['*', '+', '$', ')']\n"
     ]
    }
   ],
   "source": [
    "follow = {}\n",
    "follow_completed = False\n",
    "\n",
    "# Initializing follow of non-terminals\n",
    "for i in non_terminals:\n",
    "    follow[i] = []\n",
    "follow[start_symbol] = ['$']\n",
    "\n",
    "# Ignoring rules which derives only epsilon '#'\n",
    "new_grammar = []\n",
    "for i in grammar:\n",
    "    if i[1] != '#' and i[-1] != '#':\n",
    "        new_grammar.append(i)\n",
    "print('New Grammar:')\n",
    "print(new_grammar)\n",
    "\n",
    "# Follow of non-terminals by iterating grammar\n",
    "for i in new_grammar:\n",
    "    pos = 0\n",
    "    for j in i[1:]:\n",
    "        pos += 1\n",
    "        if j in non_terminals:\n",
    "            if pos + 1 == len(i):\n",
    "                follow[j] += ['fol({nt})'.format(nt = i[0])]\n",
    "            elif pos + 1 < len(i):\n",
    "                if '#' in first[i[pos + 1]]:\n",
    "                    if pos + 2 < len(i) and '#' not in first[i[pos + 2]]:\n",
    "                        follow[j] += first[i[pos + 1]][:-1] + first[i[pos + 2]]\n",
    "                    else:\n",
    "                        follow[j] += first[i[pos + 1]][:-1] + ['fol({nt})'.format(nt = i[0])]\n",
    "                else:\n",
    "                    follow[j] += first[i[pos + 1]]\n",
    "\n",
    "# Remove Duplicates:\n",
    "for i in follow:\n",
    "    follow[i] = remove_duplicates(follow[i])\n",
    "\n",
    "# Remove follow of key from values of that key\n",
    "for i in follow:\n",
    "    if 'fol({nt})'.format(nt = i) in follow[i]:\n",
    "        follow[i].remove('fol({nt})'.format(nt = i))\n",
    "\n",
    "terminals.append('$')   # Just for matching\n",
    "\n",
    "# Putting the values of follow\n",
    "for i in follow:\n",
    "    for j in follow:\n",
    "        if 'fol({nt})'.format(nt = i) in follow[j] and 'fol({nt})'.format(nt = j) in follow[i]:\n",
    "            follow[j].remove('fol({nt})'.format(nt = i))\n",
    "            follow[i].remove('fol({nt})'.format(nt = j))\n",
    "            follow[j] += follow[i]\n",
    "            follow[i] += follow[j]\n",
    "for i in follow:\n",
    "    if set(follow[i]).issubset(set(terminals)):   # Check if all elements in follow set are terminals\n",
    "        for x in follow:\n",
    "            if 'fol({nt})'.format(nt = i) in follow[x]:\n",
    "                follow[x].remove('fol({nt})'.format(nt = i))\n",
    "                follow[x] += follow[i]\n",
    "\n",
    "# Remove Duplicates:\n",
    "for i in follow:\n",
    "    follow[i] = remove_duplicates(follow[i])\n",
    "\n",
    "print('Follow:')\n",
    "for i in follow:\n",
    "    print('Follow({a})\\t: '.format(a = i), follow[i])"
   ]
  },
  {
   "cell_type": "code",
   "execution_count": 6,
   "metadata": {},
   "outputs": [],
   "source": [
    "terminals.remove('#')   # Because we will use this set in table header"
   ]
  },
  {
   "cell_type": "markdown",
   "metadata": {},
   "source": [
    "### Make Entries in Parsing Table"
   ]
  },
  {
   "cell_type": "code",
   "execution_count": 7,
   "metadata": {},
   "outputs": [
    {
     "name": "stdout",
     "output_type": "stream",
     "text": [
      "Terminals: ['+', '*', '(', ')', 'num', '$']\n",
      "Non-Terminals: ['E', \"E'\", 'T', \"T'\", 'F']\n",
      "\n",
      "Grammar:\n",
      "[['E', 'T', \"E'\"], [\"E'\", '+', 'T', \"E'\"], [\"E'\", '#'], ['T', 'F', \"T'\"], [\"T'\", '*', 'F', \"T'\"], [\"T'\", '#'], ['F', '(', 'E', ')'], ['F', 'num']]\n",
      "\n",
      "Table:\n",
      "[['Error', 'Error', \"E -> TE'\", 'Error', \"E -> TE'\", 'Error'], [\"E' -> +TE'\", 'Error', 'Error', \"E' -> #\", 'Error', \"E' -> #\"], ['Error', 'Error', \"T -> FT'\", 'Error', \"T -> FT'\", 'Error'], [\"T' -> #\", \"T' -> *FT'\", 'Error', \"T' -> #\", 'Error', \"T' -> #\"], ['Error', 'Error', 'F -> (E)', 'Error', 'F -> num', 'Error']]\n"
     ]
    }
   ],
   "source": [
    "# Initializing table with errors\n",
    "rows = len(non_terminals)\n",
    "columns = len(terminals)\n",
    "table = []\n",
    "\n",
    "for i in range(rows):\n",
    "    row = []\n",
    "    for j in range(columns):\n",
    "        row.append('Error')\n",
    "    table.append(row)\n",
    "\n",
    "print('Terminals:', terminals)\n",
    "print('Non-Terminals:', non_terminals)\n",
    "print('\\nGrammar:')\n",
    "print(grammar)\n",
    "    \n",
    "# Entering data in table\n",
    "for i in grammar:\n",
    "    if i[1] in terminals:\n",
    "        table[non_terminals.index(i[0])][terminals.index(i[1])] = i[0] + ' -> ' + ''.join(i[1:])\n",
    "    elif i[1] == '#':\n",
    "        col = []\n",
    "        for x in follow[i[0]]:\n",
    "            col.append(terminals.index(x))\n",
    "        for c in col:\n",
    "            table[non_terminals.index(i[0])][c] = i[0] + ' -> ' + ''.join(i[1:])\n",
    "    elif i[1] in non_terminals:\n",
    "        col = []\n",
    "        ci_g = 1\n",
    "        while ci_g < len(i):\n",
    "            if '#' in first[i[ci_g]] and ci_g == (len(i) - 1):\n",
    "                for x in first[i[ci_g]]:\n",
    "                    if x != '#':\n",
    "                        col.append(terminals.index(x))\n",
    "                for x in follow[i[0]]:\n",
    "                    col.append(terminals.index(x))\n",
    "            elif '#' in first[i[ci_g]]:\n",
    "                for x in first[i[ci_g]]:\n",
    "                    if x != '#':\n",
    "                        col.append(terminals.index(x))\n",
    "            else:\n",
    "                for x in first[i[ci_g]]:\n",
    "                    col.append(terminals.index(x))\n",
    "                break\n",
    "            ci_g += 1\n",
    "        for c in col:\n",
    "            table[non_terminals.index(i[0])][c] = i[0] + ' -> ' + ''.join(i[1:])\n",
    "        \n",
    "print('\\nTable:')\n",
    "print(table)"
   ]
  },
  {
   "cell_type": "markdown",
   "metadata": {},
   "source": [
    "### Show Parsing Table"
   ]
  },
  {
   "cell_type": "code",
   "execution_count": 8,
   "metadata": {},
   "outputs": [
    {
     "name": "stdout",
     "output_type": "stream",
     "text": [
      "************************************************************************************************************************\n",
      "|                     |                                         Input Symbols                                          |\n",
      "------------------------------------------------------------------------------------------------------------------------\n",
      "|    Non Terminals    |       +       |       *       |       (       |       )       |      num      |       $        |\n",
      "************************************************************************************************************************\n",
      "|          E          |     Error     |     Error     |    E -> TE'   |     Error     |    E -> TE'   |     Error      |\n",
      "------------------------------------------------------------------------------------------------------------------------\n",
      "|          E'         |   E' -> +TE'  |     Error     |     Error     |    E' -> #    |     Error     |    E' -> #     |\n",
      "------------------------------------------------------------------------------------------------------------------------\n",
      "|          T          |     Error     |     Error     |    T -> FT'   |     Error     |    T -> FT'   |     Error      |\n",
      "------------------------------------------------------------------------------------------------------------------------\n",
      "|          T'         |    T' -> #    |   T' -> *FT'  |     Error     |    T' -> #    |     Error     |    T' -> #     |\n",
      "------------------------------------------------------------------------------------------------------------------------\n",
      "|          F          |     Error     |     Error     |    F -> (E)   |     Error     |    F -> num   |     Error      |\n",
      "------------------------------------------------------------------------------------------------------------------------\n",
      "************************************************************************************************************************\n"
     ]
    }
   ],
   "source": [
    "# Drawing Table\n",
    "h_top_margin = 0\n",
    "f_col_w = 21\n",
    "all_col_w = 15\n",
    "header = '|' + 'Non Terminals'.center(f_col_w)\n",
    "row = ''\n",
    "\n",
    "for i in terminals:\n",
    "    header += '|' + i.center(all_col_w)\n",
    "    h_top_margin += all_col_w+1\n",
    "else:\n",
    "    header += ' |'\n",
    "    \n",
    "line = '-'*(h_top_margin+f_col_w+3)\n",
    "\n",
    "print(line.replace('-', '*'))\n",
    "print('|' + ''.center(f_col_w) + '|' + 'Input Symbols'.center(h_top_margin) + '|')\n",
    "print(line)\n",
    "print(header)\n",
    "print(line.replace('-', '*'))\n",
    "\n",
    "# Filling table with entries\n",
    "r = 0\n",
    "while r < rows:\n",
    "    row += '|' + non_terminals[r].center(f_col_w)\n",
    "    c = 0\n",
    "    while c < columns:\n",
    "        row += '|' + table[r][c].center(all_col_w)\n",
    "        c += 1\n",
    "    print(row + ' |')\n",
    "    print(line)\n",
    "    row = ''\n",
    "    r += 1\n",
    "\n",
    "print(line.replace('-', '*'))"
   ]
  },
  {
   "cell_type": "code",
   "execution_count": null,
   "metadata": {},
   "outputs": [],
   "source": []
  }
 ],
 "metadata": {
  "kernelspec": {
   "display_name": "Python 3",
   "language": "python",
   "name": "python3"
  },
  "language_info": {
   "codemirror_mode": {
    "name": "ipython",
    "version": 3
   },
   "file_extension": ".py",
   "mimetype": "text/x-python",
   "name": "python",
   "nbconvert_exporter": "python",
   "pygments_lexer": "ipython3",
   "version": "3.7.3"
  }
 },
 "nbformat": 4,
 "nbformat_minor": 2
}
